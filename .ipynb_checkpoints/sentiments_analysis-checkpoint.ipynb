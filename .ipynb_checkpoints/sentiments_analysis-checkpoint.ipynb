{
 "cells": [
  {
   "cell_type": "code",
   "execution_count": 42,
   "id": "1ca847d3-4f3f-4bc2-b305-da7eb74ef5e6",
   "metadata": {
    "execution": {
     "iopub.execute_input": "2024-10-09T10:55:19.683700Z",
     "iopub.status.busy": "2024-10-09T10:55:19.682703Z",
     "iopub.status.idle": "2024-10-09T10:55:19.692250Z",
     "shell.execute_reply": "2024-10-09T10:55:19.691287Z",
     "shell.execute_reply.started": "2024-10-09T10:55:19.683700Z"
    }
   },
   "outputs": [],
   "source": [
    "from nltk.corpus import stopwords\n",
    "from nltk.tokenize import word_tokenize\n",
    "from nltk.stem import WordNetLemmatizer\n",
    "from textblob import TextBlob"
   ]
  },
  {
   "cell_type": "code",
   "execution_count": 41,
   "id": "d64b9ec3-e47b-4078-a88d-970ed43a31e7",
   "metadata": {
    "execution": {
     "iopub.execute_input": "2024-10-09T10:55:00.112608Z",
     "iopub.status.busy": "2024-10-09T10:55:00.112608Z",
     "iopub.status.idle": "2024-10-09T10:55:17.808324Z",
     "shell.execute_reply": "2024-10-09T10:55:17.807279Z",
     "shell.execute_reply.started": "2024-10-09T10:55:00.112608Z"
    }
   },
   "outputs": [
    {
     "name": "stderr",
     "output_type": "stream",
     "text": [
      "[nltk_data] Downloading package punkt to\n",
      "[nltk_data]     C:\\Users\\SAMI\\AppData\\Roaming\\nltk_data...\n",
      "[nltk_data]   Unzipping tokenizers\\punkt.zip.\n",
      "[nltk_data] Downloading package stopwords to\n",
      "[nltk_data]     C:\\Users\\SAMI\\AppData\\Roaming\\nltk_data...\n",
      "[nltk_data]   Unzipping corpora\\stopwords.zip.\n",
      "[nltk_data] Downloading package wordnet to\n",
      "[nltk_data]     C:\\Users\\SAMI\\AppData\\Roaming\\nltk_data...\n",
      "[nltk_data] Downloading package averaged_perceptron_tagger to\n",
      "[nltk_data]     C:\\Users\\SAMI\\AppData\\Roaming\\nltk_data...\n",
      "[nltk_data]   Unzipping taggers\\averaged_perceptron_tagger.zip.\n",
      "[nltk_data] Downloading package vader_lexicon to\n",
      "[nltk_data]     C:\\Users\\SAMI\\AppData\\Roaming\\nltk_data...\n",
      "[nltk_data] Downloading package omw-1.4 to\n",
      "[nltk_data]     C:\\Users\\SAMI\\AppData\\Roaming\\nltk_data...\n"
     ]
    },
    {
     "data": {
      "text/plain": [
       "True"
      ]
     },
     "execution_count": 41,
     "metadata": {},
     "output_type": "execute_result"
    }
   ],
   "source": [
    "import nltk\n",
    "\n",
    "# Download all necessary NLTK resources\n",
    "nltk.download('punkt')  # Tokenizers\n",
    "nltk.download('stopwords')  # Stop words\n",
    "nltk.download('wordnet')  # WordNet lemmatizer\n",
    "nltk.download('averaged_perceptron_tagger')  # POS tagging for lemmatization\n",
    "nltk.download('vader_lexicon')  # Sentiment analysis lexicon\n",
    "nltk.download('omw-1.4')  # WordNet data for lemmatization\n"
   ]
  },
  {
   "cell_type": "markdown",
   "id": "1d682586-dd07-4e5e-ab96-6f69bceb5e86",
   "metadata": {},
   "source": [
    "## Text Preprocessing Function\r\n",
    "\r\n",
    "The `preprocess_text` function is designed to clean and prepare text data for analysis. This function performs several essential preprocessing steps to enhance the quality of the text, making it more suitable for further natural language processing tasks. Below are the key operations performed by the function:\r\n",
    "\r\n",
    "1. **Tokenization**: \r\n",
    "   - The input text is converted to lowercase and split into individual words (tokens).\r\n",
    "   \r\n",
    "2. **Stopword Removal**:\r\n",
    "   - Commonly used words (stopwords) that do not contribute meaningful information are filtered out from the tokenized text. This helps in reducing noise in the data.\r\n",
    "\r\n",
    "3. **Lemmatization**:\r\n",
    "   - Each remaining token is lemmatized, which means it is transformed into its base or root form. This process helps in reducing different forms of a word to a common base form, ensuring consistency in the analysis.\r\n",
    "\r\n",
    "4. **Reconstruction**:\r\n",
    "   - The processed tokens are then joined back into a single string, which represents the cleaned and prep   return processed_text\r\n"
   ]
  },
  {
   "cell_type": "code",
   "execution_count": 43,
   "id": "588045fb-8714-4ac0-a607-e6b01815209e",
   "metadata": {
    "execution": {
     "iopub.execute_input": "2024-10-09T10:55:22.775042Z",
     "iopub.status.busy": "2024-10-09T10:55:22.775042Z",
     "iopub.status.idle": "2024-10-09T10:55:22.785097Z",
     "shell.execute_reply": "2024-10-09T10:55:22.784098Z",
     "shell.execute_reply.started": "2024-10-09T10:55:22.775042Z"
    }
   },
   "outputs": [],
   "source": [
    "def preprocess_text(text):\n",
    "    # Tokenize the text\n",
    "    tokens = text.lower().split()\n",
    "    filtered_tokens = [token for token in tokens if token not in stopwords.words('english')]\n",
    "    lemmatizer = WordNetLemmatizer()\n",
    "    lemmatized_tokens = [lemmatizer.lemmatize(token) for token in filtered_tokens]\n",
    "    processed_text = ' '.join(lemmatized_tokens)\n",
    "    return processed_text"
   ]
  },
  {
   "cell_type": "markdown",
   "id": "7c0993a6-7fb7-40a6-85c9-e476ca78ed78",
   "metadata": {},
   "source": [
    "## Sentiment Analysis Functions\n",
    "\n",
    "In this section, we define two functions that leverage the TextBlob library to analyze the sentiment of a given text. These functions extract subjective and polarity scores, which are crucial for understanding the emotional tone of the text.\n",
    "\n",
    "### 1. Function to Get Subjectivity\n",
    "The `getSubjectivity` function calculates the subjectivity of the input text. Subjectivity refers to how personal or opinion-based the text is, with scores ranging from 0 (objective) to 1 (subjective). A higher score indicates a greater degree of subjectivity.\n",
    "\n",
    "### 2. Function to Get Polarity\n",
    "The `getPolarity` function computes the polarity of the input text, which represents the sentiment's orientation. Polarity scores range from -1 (very negative) to +1 (very positive). A score of 0 indicates a neutral sentiment.\n",
    "\n"
   ]
  },
  {
   "cell_type": "code",
   "execution_count": 44,
   "id": "9ae2ae2c-0eda-43f2-9742-6b0bbbf3fae4",
   "metadata": {
    "execution": {
     "iopub.execute_input": "2024-10-09T10:55:23.531862Z",
     "iopub.status.busy": "2024-10-09T10:55:23.530864Z",
     "iopub.status.idle": "2024-10-09T10:55:23.540368Z",
     "shell.execute_reply": "2024-10-09T10:55:23.539367Z",
     "shell.execute_reply.started": "2024-10-09T10:55:23.531862Z"
    }
   },
   "outputs": [],
   "source": [
    "#create function to get subjectivity\n",
    "def getSubjectivity(text):\n",
    "    return TextBlob(text).sentiment.subjectivity\n",
    "\n",
    "#create function to get polarity\n",
    "def getPolarity(text):\n",
    "    return TextBlob(text).sentiment.polarity"
   ]
  },
  {
   "cell_type": "markdown",
   "id": "dec9c71b-202b-41f2-8d22-cc6e4e8b39a0",
   "metadata": {
    "execution": {
     "iopub.execute_input": "2024-10-09T11:50:10.405032Z",
     "iopub.status.busy": "2024-10-09T11:50:10.405032Z",
     "iopub.status.idle": "2024-10-09T11:50:10.424020Z",
     "shell.execute_reply": "2024-10-09T11:50:10.423020Z",
     "shell.execute_reply.started": "2024-10-09T11:50:10.405032Z"
    }
   },
   "source": [
    "## Sentiment Analysis Function\n",
    "\n",
    "The `getSentiment` function is designed to classify the sentiment of a given score into three categories: Negative, Neutral, and Positive.\n"
   ]
  },
  {
   "cell_type": "code",
   "execution_count": 54,
   "id": "fe636e7c-67c3-4ce5-9ae1-557d3831600c",
   "metadata": {
    "execution": {
     "iopub.execute_input": "2024-10-09T10:57:25.789687Z",
     "iopub.status.busy": "2024-10-09T10:57:25.788420Z",
     "iopub.status.idle": "2024-10-09T10:57:25.795670Z",
     "shell.execute_reply": "2024-10-09T10:57:25.794673Z",
     "shell.execute_reply.started": "2024-10-09T10:57:25.789687Z"
    }
   },
   "outputs": [],
   "source": [
    "#create function to get sentiment data\n",
    "def getSentiment(score):\n",
    "    if score < 0:\n",
    "        return 'Negative'\n",
    "    elif score == 0:\n",
    "        return 'Neutral'\n",
    "    else:\n",
    "        return 'Positive'"
   ]
  },
  {
   "cell_type": "markdown",
   "id": "92bf730e-1bd7-4934-ba04-37384bd2b0ec",
   "metadata": {},
   "source": [
    "## Opinion Level Classification Function\r\n",
    "\r\n",
    "The `getOpinionLevel` function is designed to classify the level of opinion expressed in a given score into four categories: Factual, Mostly Factual, Opinionated, and Highly Opinionated. This function helps in understanding how subjective or objective the text data iore < 0.5:\r\n"
   ]
  },
  {
   "cell_type": "code",
   "execution_count": 57,
   "id": "d19b2c2c-0b8a-4174-bfd5-5c945f1f2fd0",
   "metadata": {
    "execution": {
     "iopub.execute_input": "2024-10-09T10:59:30.382589Z",
     "iopub.status.busy": "2024-10-09T10:59:30.381593Z",
     "iopub.status.idle": "2024-10-09T10:59:30.393983Z",
     "shell.execute_reply": "2024-10-09T10:59:30.393018Z",
     "shell.execute_reply.started": "2024-10-09T10:59:30.382589Z"
    }
   },
   "outputs": [],
   "source": [
    "def getOpinionLevel(score):\n",
    "    if score == 0:\n",
    "        return 'Factual'\n",
    "    elif score > 0 and score < 0.5:\n",
    "        return 'Mostly Factual'\n",
    "    elif score >= 0.5 and score < 1:\n",
    "        return 'Opinionated'\n",
    "    else:\n",
    "        return 'Highly Opinionated'\n"
   ]
  },
  {
   "cell_type": "code",
   "execution_count": 45,
   "id": "94239ef4-4428-4c99-947b-c267217c3053",
   "metadata": {
    "execution": {
     "iopub.execute_input": "2024-10-09T10:55:24.044089Z",
     "iopub.status.busy": "2024-10-09T10:55:24.043092Z",
     "iopub.status.idle": "2024-10-09T10:55:24.053593Z",
     "shell.execute_reply": "2024-10-09T10:55:24.052594Z",
     "shell.execute_reply.started": "2024-10-09T10:55:24.044089Z"
    }
   },
   "outputs": [],
   "source": [
    "comment = '''\n",
    "    One of the best articles ever written on the topic. \n",
    "    It clearly reflects the differences without any unnecessary \n",
    "    details and is really to the point. Great job, Shweta!\n",
    "'''"
   ]
  },
  {
   "cell_type": "code",
   "execution_count": 46,
   "id": "41bb043d-57ec-4c1b-b931-82ce01722393",
   "metadata": {
    "execution": {
     "iopub.execute_input": "2024-10-09T10:55:24.519569Z",
     "iopub.status.busy": "2024-10-09T10:55:24.519569Z",
     "iopub.status.idle": "2024-10-09T10:55:28.250904Z",
     "shell.execute_reply": "2024-10-09T10:55:28.250904Z",
     "shell.execute_reply.started": "2024-10-09T10:55:24.519569Z"
    }
   },
   "outputs": [],
   "source": [
    "preprocessed_comment = preprocess_text(comment)"
   ]
  },
  {
   "cell_type": "code",
   "execution_count": 48,
   "id": "6b8240a2-9f0e-49f5-9c45-13cd34438c5f",
   "metadata": {
    "execution": {
     "iopub.execute_input": "2024-10-09T10:55:40.157680Z",
     "iopub.status.busy": "2024-10-09T10:55:40.157680Z",
     "iopub.status.idle": "2024-10-09T10:55:40.170624Z",
     "shell.execute_reply": "2024-10-09T10:55:40.169627Z",
     "shell.execute_reply.started": "2024-10-09T10:55:40.157680Z"
    }
   },
   "outputs": [
    {
     "data": {
      "text/plain": [
       "'one best article ever written topic. clearly reflects difference without unnecessary detail really point. great job, shweta!'"
      ]
     },
     "execution_count": 48,
     "metadata": {},
     "output_type": "execute_result"
    }
   ],
   "source": [
    "preprocessed_comment"
   ]
  },
  {
   "cell_type": "code",
   "execution_count": 55,
   "id": "7bcced3e-a674-475f-b5a1-51b5e6de532c",
   "metadata": {
    "execution": {
     "iopub.execute_input": "2024-10-09T10:57:26.145560Z",
     "iopub.status.busy": "2024-10-09T10:57:26.144563Z",
     "iopub.status.idle": "2024-10-09T10:57:26.154746Z",
     "shell.execute_reply": "2024-10-09T10:57:26.153747Z",
     "shell.execute_reply.started": "2024-10-09T10:57:26.145560Z"
    }
   },
   "outputs": [
    {
     "data": {
      "text/plain": [
       "'Positive'"
      ]
     },
     "execution_count": 55,
     "metadata": {},
     "output_type": "execute_result"
    }
   ],
   "source": [
    "getSentiment(getPolarity(preprocessed_comment))"
   ]
  },
  {
   "cell_type": "code",
   "execution_count": 58,
   "id": "d00856a5-4796-487c-90e2-223aac9bbebd",
   "metadata": {
    "execution": {
     "iopub.execute_input": "2024-10-09T10:59:30.799768Z",
     "iopub.status.busy": "2024-10-09T10:59:30.798772Z",
     "iopub.status.idle": "2024-10-09T10:59:30.814258Z",
     "shell.execute_reply": "2024-10-09T10:59:30.813262Z",
     "shell.execute_reply.started": "2024-10-09T10:59:30.799768Z"
    }
   },
   "outputs": [
    {
     "data": {
      "text/plain": [
       "'Opinionated'"
      ]
     },
     "execution_count": 58,
     "metadata": {},
     "output_type": "execute_result"
    }
   ],
   "source": [
    "getOpinionLevel(getSubjectivity(preprocessed_comment))"
   ]
  }
 ],
 "metadata": {
  "kernelspec": {
   "display_name": "Python 3 (ipykernel)",
   "language": "python",
   "name": "python3"
  },
  "language_info": {
   "codemirror_mode": {
    "name": "ipython",
    "version": 3
   },
   "file_extension": ".py",
   "mimetype": "text/x-python",
   "name": "python",
   "nbconvert_exporter": "python",
   "pygments_lexer": "ipython3",
   "version": "3.10.0"
  }
 },
 "nbformat": 4,
 "nbformat_minor": 5
}
